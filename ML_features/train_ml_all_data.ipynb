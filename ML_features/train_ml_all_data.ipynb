{
 "cells": [
  {
   "cell_type": "markdown",
   "metadata": {},
   "source": [
    "# Обучение ML алгоритмов по информативным фичам из ВЭКГ:"
   ]
  },
  {
   "cell_type": "code",
   "execution_count": 4,
   "metadata": {},
   "outputs": [],
   "source": [
    "import pandas as pd\n",
    "from matplotlib import pyplot as plt\n",
    "import numpy as np\n",
    "import seaborn as sns\n",
    "import warnings\n",
    "warnings.filterwarnings(\"ignore\", category=FutureWarning)\n",
    "\n",
    "from pandas.core.common import SettingWithCopyWarning\n",
    "\n",
    "from sklearn.preprocessing import StandardScaler\n",
    "from sklearn.model_selection import train_test_split\n",
    "from catboost import CatBoostRegressor\n",
    "from sklearn.metrics import mean_squared_error\n",
    "from sklearn.metrics import mean_absolute_error\n",
    "from sklearn.model_selection import cross_val_score\n",
    "from sklearn.metrics import confusion_matrix, ConfusionMatrixDisplay\n",
    "from sklearn.metrics import precision_score, \\\n",
    "    recall_score, confusion_matrix, classification_report, \\\n",
    "    accuracy_score, f1_score\n",
    "\n",
    "from sklearn.metrics import confusion_matrix\n",
    "from sklearn import tree\n",
    "from sklearn.linear_model import LinearRegression\n",
    "from sklearn.model_selection import train_test_split\n",
    "from sklearn.model_selection import GridSearchCV\n",
    "from sklearn.model_selection import cross_val_score\n",
    "from sklearn.ensemble import RandomForestClassifier\n",
    "from sklearn.model_selection import GridSearchCV\n",
    "import random\n",
    "from sklearn.model_selection import GridSearchCV\n",
    "from sklearn.neighbors import KNeighborsClassifier\n",
    "from sklearn.linear_model import LogisticRegression\n",
    "from sklearn.svm import SVC \n",
    "from catboost import CatBoostClassifier\n",
    "from sklearn.model_selection import GridSearchCV\n",
    "\n",
    "random.seed(42)"
   ]
  },
  {
   "cell_type": "code",
   "execution_count": null,
   "metadata": {},
   "outputs": [
    {
     "data": {
      "text/html": [
       "<div>\n",
       "<style scoped>\n",
       "    .dataframe tbody tr th:only-of-type {\n",
       "        vertical-align: middle;\n",
       "    }\n",
       "\n",
       "    .dataframe tbody tr th {\n",
       "        vertical-align: top;\n",
       "    }\n",
       "\n",
       "    .dataframe thead th {\n",
       "        text-align: right;\n",
       "    }\n",
       "</style>\n",
       "<table border=\"1\" class=\"dataframe\">\n",
       "  <thead>\n",
       "    <tr style=\"text-align: right;\">\n",
       "      <th></th>\n",
       "      <th>Square_QRS_frontal</th>\n",
       "      <th>Square_QRS_sagittal</th>\n",
       "      <th>Square_QRS_axial</th>\n",
       "      <th>Square_ST_frontal</th>\n",
       "      <th>Square_ST_sagittal</th>\n",
       "      <th>Square_ST_axial</th>\n",
       "      <th>Angle_QRST</th>\n",
       "      <th>Frontal_Angle_QRST</th>\n",
       "      <th>FileID</th>\n",
       "      <th>Age</th>\n",
       "      <th>EF</th>\n",
       "      <th>Gender_f</th>\n",
       "      <th>Gender_m</th>\n",
       "      <th>class</th>\n",
       "    </tr>\n",
       "  </thead>\n",
       "  <tbody>\n",
       "    <tr>\n",
       "      <th>0</th>\n",
       "      <td>8.336893e-07</td>\n",
       "      <td>7.278536e-07</td>\n",
       "      <td>2.149840e-06</td>\n",
       "      <td>2.610541e-10</td>\n",
       "      <td>1.051112e-09</td>\n",
       "      <td>9.567503e-11</td>\n",
       "      <td>112.662539</td>\n",
       "      <td>41.334788</td>\n",
       "      <td>1</td>\n",
       "      <td>76</td>\n",
       "      <td>73</td>\n",
       "      <td>1</td>\n",
       "      <td>0</td>\n",
       "      <td>0</td>\n",
       "    </tr>\n",
       "    <tr>\n",
       "      <th>1</th>\n",
       "      <td>7.402612e-07</td>\n",
       "      <td>3.468231e-07</td>\n",
       "      <td>6.847881e-07</td>\n",
       "      <td>8.926697e-09</td>\n",
       "      <td>1.980139e-09</td>\n",
       "      <td>6.931836e-08</td>\n",
       "      <td>62.462055</td>\n",
       "      <td>44.982961</td>\n",
       "      <td>2</td>\n",
       "      <td>83</td>\n",
       "      <td>74</td>\n",
       "      <td>0</td>\n",
       "      <td>1</td>\n",
       "      <td>0</td>\n",
       "    </tr>\n",
       "    <tr>\n",
       "      <th>2</th>\n",
       "      <td>6.833704e-07</td>\n",
       "      <td>3.611996e-07</td>\n",
       "      <td>8.641801e-07</td>\n",
       "      <td>6.151694e-09</td>\n",
       "      <td>7.288901e-09</td>\n",
       "      <td>5.949312e-10</td>\n",
       "      <td>2.624575</td>\n",
       "      <td>9.793879</td>\n",
       "      <td>3</td>\n",
       "      <td>77</td>\n",
       "      <td>75</td>\n",
       "      <td>0</td>\n",
       "      <td>1</td>\n",
       "      <td>0</td>\n",
       "    </tr>\n",
       "    <tr>\n",
       "      <th>3</th>\n",
       "      <td>5.245667e-07</td>\n",
       "      <td>4.037455e-08</td>\n",
       "      <td>1.574025e-07</td>\n",
       "      <td>3.046258e-09</td>\n",
       "      <td>8.787343e-09</td>\n",
       "      <td>1.717640e-08</td>\n",
       "      <td>126.061398</td>\n",
       "      <td>118.078544</td>\n",
       "      <td>4</td>\n",
       "      <td>56</td>\n",
       "      <td>78</td>\n",
       "      <td>0</td>\n",
       "      <td>1</td>\n",
       "      <td>0</td>\n",
       "    </tr>\n",
       "    <tr>\n",
       "      <th>4</th>\n",
       "      <td>1.370034e-07</td>\n",
       "      <td>1.116957e-07</td>\n",
       "      <td>1.134765e-06</td>\n",
       "      <td>9.371232e-09</td>\n",
       "      <td>3.066109e-09</td>\n",
       "      <td>2.493297e-08</td>\n",
       "      <td>136.553920</td>\n",
       "      <td>166.829706</td>\n",
       "      <td>5</td>\n",
       "      <td>55</td>\n",
       "      <td>78</td>\n",
       "      <td>0</td>\n",
       "      <td>1</td>\n",
       "      <td>0</td>\n",
       "    </tr>\n",
       "    <tr>\n",
       "      <th>...</th>\n",
       "      <td>...</td>\n",
       "      <td>...</td>\n",
       "      <td>...</td>\n",
       "      <td>...</td>\n",
       "      <td>...</td>\n",
       "      <td>...</td>\n",
       "      <td>...</td>\n",
       "      <td>...</td>\n",
       "      <td>...</td>\n",
       "      <td>...</td>\n",
       "      <td>...</td>\n",
       "      <td>...</td>\n",
       "      <td>...</td>\n",
       "      <td>...</td>\n",
       "    </tr>\n",
       "    <tr>\n",
       "      <th>260</th>\n",
       "      <td>2.882277e-07</td>\n",
       "      <td>6.787564e-07</td>\n",
       "      <td>6.910762e-07</td>\n",
       "      <td>3.220663e-09</td>\n",
       "      <td>9.055682e-09</td>\n",
       "      <td>2.478788e-08</td>\n",
       "      <td>129.570768</td>\n",
       "      <td>51.872633</td>\n",
       "      <td>336</td>\n",
       "      <td>68</td>\n",
       "      <td>29</td>\n",
       "      <td>0</td>\n",
       "      <td>1</td>\n",
       "      <td>1</td>\n",
       "    </tr>\n",
       "    <tr>\n",
       "      <th>261</th>\n",
       "      <td>2.769859e-07</td>\n",
       "      <td>1.667682e-07</td>\n",
       "      <td>2.417773e-08</td>\n",
       "      <td>4.595353e-09</td>\n",
       "      <td>2.492971e-10</td>\n",
       "      <td>2.097595e-08</td>\n",
       "      <td>130.471431</td>\n",
       "      <td>136.862002</td>\n",
       "      <td>337</td>\n",
       "      <td>58</td>\n",
       "      <td>29</td>\n",
       "      <td>0</td>\n",
       "      <td>1</td>\n",
       "      <td>1</td>\n",
       "    </tr>\n",
       "    <tr>\n",
       "      <th>262</th>\n",
       "      <td>4.595067e-07</td>\n",
       "      <td>3.152899e-07</td>\n",
       "      <td>5.008105e-07</td>\n",
       "      <td>2.863019e-08</td>\n",
       "      <td>1.049836e-08</td>\n",
       "      <td>8.825877e-08</td>\n",
       "      <td>107.037503</td>\n",
       "      <td>51.082878</td>\n",
       "      <td>339</td>\n",
       "      <td>59</td>\n",
       "      <td>39</td>\n",
       "      <td>0</td>\n",
       "      <td>1</td>\n",
       "      <td>1</td>\n",
       "    </tr>\n",
       "    <tr>\n",
       "      <th>263</th>\n",
       "      <td>1.530716e-07</td>\n",
       "      <td>3.684035e-07</td>\n",
       "      <td>4.671751e-07</td>\n",
       "      <td>9.574560e-10</td>\n",
       "      <td>3.704179e-09</td>\n",
       "      <td>3.771654e-09</td>\n",
       "      <td>157.240917</td>\n",
       "      <td>137.930779</td>\n",
       "      <td>341</td>\n",
       "      <td>62</td>\n",
       "      <td>33</td>\n",
       "      <td>0</td>\n",
       "      <td>1</td>\n",
       "      <td>1</td>\n",
       "    </tr>\n",
       "    <tr>\n",
       "      <th>264</th>\n",
       "      <td>1.412943e-07</td>\n",
       "      <td>1.286367e-07</td>\n",
       "      <td>3.721048e-07</td>\n",
       "      <td>4.312285e-09</td>\n",
       "      <td>7.008139e-09</td>\n",
       "      <td>5.488790e-09</td>\n",
       "      <td>155.879663</td>\n",
       "      <td>127.330281</td>\n",
       "      <td>342</td>\n",
       "      <td>58</td>\n",
       "      <td>31</td>\n",
       "      <td>0</td>\n",
       "      <td>1</td>\n",
       "      <td>1</td>\n",
       "    </tr>\n",
       "  </tbody>\n",
       "</table>\n",
       "<p>265 rows × 14 columns</p>\n",
       "</div>"
      ],
      "text/plain": [
       "     Square_QRS_frontal  Square_QRS_sagittal  Square_QRS_axial  \\\n",
       "0          8.336893e-07         7.278536e-07      2.149840e-06   \n",
       "1          7.402612e-07         3.468231e-07      6.847881e-07   \n",
       "2          6.833704e-07         3.611996e-07      8.641801e-07   \n",
       "3          5.245667e-07         4.037455e-08      1.574025e-07   \n",
       "4          1.370034e-07         1.116957e-07      1.134765e-06   \n",
       "..                  ...                  ...               ...   \n",
       "260        2.882277e-07         6.787564e-07      6.910762e-07   \n",
       "261        2.769859e-07         1.667682e-07      2.417773e-08   \n",
       "262        4.595067e-07         3.152899e-07      5.008105e-07   \n",
       "263        1.530716e-07         3.684035e-07      4.671751e-07   \n",
       "264        1.412943e-07         1.286367e-07      3.721048e-07   \n",
       "\n",
       "     Square_ST_frontal  Square_ST_sagittal  Square_ST_axial  Angle_QRST  \\\n",
       "0         2.610541e-10        1.051112e-09     9.567503e-11  112.662539   \n",
       "1         8.926697e-09        1.980139e-09     6.931836e-08   62.462055   \n",
       "2         6.151694e-09        7.288901e-09     5.949312e-10    2.624575   \n",
       "3         3.046258e-09        8.787343e-09     1.717640e-08  126.061398   \n",
       "4         9.371232e-09        3.066109e-09     2.493297e-08  136.553920   \n",
       "..                 ...                 ...              ...         ...   \n",
       "260       3.220663e-09        9.055682e-09     2.478788e-08  129.570768   \n",
       "261       4.595353e-09        2.492971e-10     2.097595e-08  130.471431   \n",
       "262       2.863019e-08        1.049836e-08     8.825877e-08  107.037503   \n",
       "263       9.574560e-10        3.704179e-09     3.771654e-09  157.240917   \n",
       "264       4.312285e-09        7.008139e-09     5.488790e-09  155.879663   \n",
       "\n",
       "     Frontal_Angle_QRST  FileID  Age  EF  Gender_f  Gender_m  class  \n",
       "0             41.334788       1   76  73         1         0      0  \n",
       "1             44.982961       2   83  74         0         1      0  \n",
       "2              9.793879       3   77  75         0         1      0  \n",
       "3            118.078544       4   56  78         0         1      0  \n",
       "4            166.829706       5   55  78         0         1      0  \n",
       "..                  ...     ...  ...  ..       ...       ...    ...  \n",
       "260           51.872633     336   68  29         0         1      1  \n",
       "261          136.862002     337   58  29         0         1      1  \n",
       "262           51.082878     339   59  39         0         1      1  \n",
       "263          137.930779     341   62  33         0         1      1  \n",
       "264          127.330281     342   58  31         0         1      1  \n",
       "\n",
       "[265 rows x 14 columns]"
      ]
     },
     "execution_count": 2,
     "metadata": {},
     "output_type": "execute_result"
    }
   ],
   "source": [
    "df = pd.read_csv('all_data_for_ml.csv')\n",
    "df"
   ]
  },
  {
   "cell_type": "markdown",
   "metadata": {},
   "source": [
    "---"
   ]
  },
  {
   "cell_type": "markdown",
   "metadata": {},
   "source": [
    "# Классификация (болен/здоров)"
   ]
  },
  {
   "cell_type": "markdown",
   "metadata": {},
   "source": [
    "### Преподготовка данных:"
   ]
  },
  {
   "cell_type": "code",
   "execution_count": null,
   "metadata": {},
   "outputs": [
    {
     "name": "stdout",
     "output_type": "stream",
     "text": [
      "Анализируются следующие 11 признаков: ['Square_QRS_frontal', 'Square_QRS_sagittal', 'Square_QRS_axial', 'Square_ST_frontal', 'Square_ST_sagittal', 'Square_ST_axial', 'Angle_QRST', 'Frontal_Angle_QRST', 'Age', 'Gender_f', 'Gender_m']\n"
     ]
    }
   ],
   "source": [
    "y = df['class']\n",
    "X = df.drop(['FileID', 'EF', 'class'], axis=1)\n",
    "print(f\"Анализируются следующие {len(list(X.columns))} признаков: {list(X.columns)}\")"
   ]
  },
  {
   "cell_type": "markdown",
   "metadata": {},
   "source": [
    "Распределение здоровых и больных: \n",
    "\n",
    "0 - здоров 1 - болен"
   ]
  },
  {
   "cell_type": "code",
   "execution_count": null,
   "metadata": {},
   "outputs": [
    {
     "data": {
      "text/plain": [
       "1    176\n",
       "0     89\n",
       "Name: class, dtype: int64"
      ]
     },
     "execution_count": 4,
     "metadata": {},
     "output_type": "execute_result"
    }
   ],
   "source": [
    "y.value_counts()"
   ]
  },
  {
   "cell_type": "markdown",
   "metadata": {},
   "source": [
    "Разделение на train/val:"
   ]
  },
  {
   "cell_type": "code",
   "execution_count": null,
   "metadata": {},
   "outputs": [],
   "source": [
    "X_train, X_test, y_train, y_test = train_test_split(X, y, test_size=0.25, stratify=y, random_state=42)"
   ]
  },
  {
   "cell_type": "markdown",
   "metadata": {},
   "source": [
    "Распределение здоровых и больных на тесте:"
   ]
  },
  {
   "cell_type": "code",
   "execution_count": null,
   "metadata": {},
   "outputs": [
    {
     "data": {
      "text/plain": [
       "1    44\n",
       "0    23\n",
       "Name: class, dtype: int64"
      ]
     },
     "execution_count": 6,
     "metadata": {},
     "output_type": "execute_result"
    }
   ],
   "source": [
    "y_test.value_counts()"
   ]
  },
  {
   "cell_type": "code",
   "execution_count": null,
   "metadata": {},
   "outputs": [],
   "source": [
    "# Выделим признаки для нормализации\n",
    "features_to_normalize = ['Square_QRS_frontal', 'Square_QRS_sagittal', 'Square_QRS_axial', \n",
    "                         'Square_ST_frontal', 'Square_ST_sagittal', 'Square_ST_axial', \n",
    "                         'Angle_QRST', 'Frontal_Angle_QRST', 'Age']\n",
    "\n",
    "# Создадим объект для стандартизации и подгоним его на тренировочных данных\n",
    "scaler = StandardScaler()\n",
    "scaler.fit(X_train[features_to_normalize])\n",
    "\n",
    "\n",
    "with warnings.catch_warnings():\n",
    "    # Отключаем предупреждения типа SettingWithCopyWarning\n",
    "    warnings.simplefilter(\"ignore\", category=SettingWithCopyWarning)\n",
    "\n",
    "    # Нормализуем признаки на тренировочном и валидационном наборах\n",
    "    X_train[features_to_normalize] = scaler.transform(X_train[features_to_normalize])\n",
    "    X_test[features_to_normalize] = scaler.transform(X_test[features_to_normalize])\n"
   ]
  },
  {
   "cell_type": "code",
   "execution_count": null,
   "metadata": {},
   "outputs": [
    {
     "data": {
      "text/html": [
       "<div>\n",
       "<style scoped>\n",
       "    .dataframe tbody tr th:only-of-type {\n",
       "        vertical-align: middle;\n",
       "    }\n",
       "\n",
       "    .dataframe tbody tr th {\n",
       "        vertical-align: top;\n",
       "    }\n",
       "\n",
       "    .dataframe thead th {\n",
       "        text-align: right;\n",
       "    }\n",
       "</style>\n",
       "<table border=\"1\" class=\"dataframe\">\n",
       "  <thead>\n",
       "    <tr style=\"text-align: right;\">\n",
       "      <th></th>\n",
       "      <th>Square_QRS_frontal</th>\n",
       "      <th>Square_QRS_sagittal</th>\n",
       "      <th>Square_QRS_axial</th>\n",
       "      <th>Square_ST_frontal</th>\n",
       "      <th>Square_ST_sagittal</th>\n",
       "      <th>Square_ST_axial</th>\n",
       "      <th>Angle_QRST</th>\n",
       "      <th>Frontal_Angle_QRST</th>\n",
       "      <th>Age</th>\n",
       "      <th>Gender_f</th>\n",
       "      <th>Gender_m</th>\n",
       "    </tr>\n",
       "  </thead>\n",
       "  <tbody>\n",
       "    <tr>\n",
       "      <th>32</th>\n",
       "      <td>-0.671465</td>\n",
       "      <td>-0.175905</td>\n",
       "      <td>0.355443</td>\n",
       "      <td>0.066545</td>\n",
       "      <td>0.877347</td>\n",
       "      <td>-0.021861</td>\n",
       "      <td>-0.374343</td>\n",
       "      <td>-1.036413</td>\n",
       "      <td>-0.133371</td>\n",
       "      <td>0</td>\n",
       "      <td>1</td>\n",
       "    </tr>\n",
       "    <tr>\n",
       "      <th>137</th>\n",
       "      <td>-0.407166</td>\n",
       "      <td>-0.566337</td>\n",
       "      <td>-0.496682</td>\n",
       "      <td>-0.167657</td>\n",
       "      <td>1.243127</td>\n",
       "      <td>0.141182</td>\n",
       "      <td>1.560533</td>\n",
       "      <td>1.755715</td>\n",
       "      <td>-0.444048</td>\n",
       "      <td>0</td>\n",
       "      <td>1</td>\n",
       "    </tr>\n",
       "    <tr>\n",
       "      <th>220</th>\n",
       "      <td>-0.787951</td>\n",
       "      <td>-0.533288</td>\n",
       "      <td>-0.901153</td>\n",
       "      <td>0.047427</td>\n",
       "      <td>0.333502</td>\n",
       "      <td>0.458031</td>\n",
       "      <td>0.492801</td>\n",
       "      <td>-0.889119</td>\n",
       "      <td>-0.133371</td>\n",
       "      <td>0</td>\n",
       "      <td>1</td>\n",
       "    </tr>\n",
       "    <tr>\n",
       "      <th>105</th>\n",
       "      <td>-0.106956</td>\n",
       "      <td>-0.192780</td>\n",
       "      <td>0.059828</td>\n",
       "      <td>0.115395</td>\n",
       "      <td>0.143186</td>\n",
       "      <td>0.057479</td>\n",
       "      <td>-1.047030</td>\n",
       "      <td>-1.000159</td>\n",
       "      <td>-0.288710</td>\n",
       "      <td>0</td>\n",
       "      <td>1</td>\n",
       "    </tr>\n",
       "    <tr>\n",
       "      <th>124</th>\n",
       "      <td>-0.374772</td>\n",
       "      <td>-0.014846</td>\n",
       "      <td>-0.785472</td>\n",
       "      <td>-0.111261</td>\n",
       "      <td>-0.235265</td>\n",
       "      <td>-0.012592</td>\n",
       "      <td>0.013940</td>\n",
       "      <td>-1.111191</td>\n",
       "      <td>0.254975</td>\n",
       "      <td>1</td>\n",
       "      <td>0</td>\n",
       "    </tr>\n",
       "    <tr>\n",
       "      <th>...</th>\n",
       "      <td>...</td>\n",
       "      <td>...</td>\n",
       "      <td>...</td>\n",
       "      <td>...</td>\n",
       "      <td>...</td>\n",
       "      <td>...</td>\n",
       "      <td>...</td>\n",
       "      <td>...</td>\n",
       "      <td>...</td>\n",
       "      <td>...</td>\n",
       "      <td>...</td>\n",
       "    </tr>\n",
       "    <tr>\n",
       "      <th>146</th>\n",
       "      <td>-0.778165</td>\n",
       "      <td>-0.574382</td>\n",
       "      <td>-0.818129</td>\n",
       "      <td>-0.154955</td>\n",
       "      <td>-0.027250</td>\n",
       "      <td>-0.094331</td>\n",
       "      <td>-1.050569</td>\n",
       "      <td>-1.094472</td>\n",
       "      <td>0.410313</td>\n",
       "      <td>1</td>\n",
       "      <td>0</td>\n",
       "    </tr>\n",
       "    <tr>\n",
       "      <th>247</th>\n",
       "      <td>-0.258325</td>\n",
       "      <td>0.048978</td>\n",
       "      <td>0.593723</td>\n",
       "      <td>-0.198645</td>\n",
       "      <td>-0.131248</td>\n",
       "      <td>-0.207983</td>\n",
       "      <td>-0.255000</td>\n",
       "      <td>-0.575994</td>\n",
       "      <td>-2.929464</td>\n",
       "      <td>0</td>\n",
       "      <td>1</td>\n",
       "    </tr>\n",
       "    <tr>\n",
       "      <th>242</th>\n",
       "      <td>2.094976</td>\n",
       "      <td>2.176602</td>\n",
       "      <td>3.060330</td>\n",
       "      <td>-0.244568</td>\n",
       "      <td>-0.110836</td>\n",
       "      <td>-0.166517</td>\n",
       "      <td>1.493605</td>\n",
       "      <td>1.504155</td>\n",
       "      <td>-2.929464</td>\n",
       "      <td>1</td>\n",
       "      <td>0</td>\n",
       "    </tr>\n",
       "    <tr>\n",
       "      <th>215</th>\n",
       "      <td>1.617082</td>\n",
       "      <td>2.011599</td>\n",
       "      <td>4.399569</td>\n",
       "      <td>-0.194483</td>\n",
       "      <td>-0.366301</td>\n",
       "      <td>-0.151755</td>\n",
       "      <td>1.607174</td>\n",
       "      <td>1.677556</td>\n",
       "      <td>-0.521718</td>\n",
       "      <td>0</td>\n",
       "      <td>1</td>\n",
       "    </tr>\n",
       "    <tr>\n",
       "      <th>234</th>\n",
       "      <td>-0.689001</td>\n",
       "      <td>-0.244095</td>\n",
       "      <td>-0.602270</td>\n",
       "      <td>-0.200545</td>\n",
       "      <td>-0.362052</td>\n",
       "      <td>-0.225147</td>\n",
       "      <td>1.111413</td>\n",
       "      <td>-0.993922</td>\n",
       "      <td>1.420013</td>\n",
       "      <td>0</td>\n",
       "      <td>1</td>\n",
       "    </tr>\n",
       "  </tbody>\n",
       "</table>\n",
       "<p>198 rows × 11 columns</p>\n",
       "</div>"
      ],
      "text/plain": [
       "     Square_QRS_frontal  Square_QRS_sagittal  Square_QRS_axial  \\\n",
       "32            -0.671465            -0.175905          0.355443   \n",
       "137           -0.407166            -0.566337         -0.496682   \n",
       "220           -0.787951            -0.533288         -0.901153   \n",
       "105           -0.106956            -0.192780          0.059828   \n",
       "124           -0.374772            -0.014846         -0.785472   \n",
       "..                  ...                  ...               ...   \n",
       "146           -0.778165            -0.574382         -0.818129   \n",
       "247           -0.258325             0.048978          0.593723   \n",
       "242            2.094976             2.176602          3.060330   \n",
       "215            1.617082             2.011599          4.399569   \n",
       "234           -0.689001            -0.244095         -0.602270   \n",
       "\n",
       "     Square_ST_frontal  Square_ST_sagittal  Square_ST_axial  Angle_QRST  \\\n",
       "32            0.066545            0.877347        -0.021861   -0.374343   \n",
       "137          -0.167657            1.243127         0.141182    1.560533   \n",
       "220           0.047427            0.333502         0.458031    0.492801   \n",
       "105           0.115395            0.143186         0.057479   -1.047030   \n",
       "124          -0.111261           -0.235265        -0.012592    0.013940   \n",
       "..                 ...                 ...              ...         ...   \n",
       "146          -0.154955           -0.027250        -0.094331   -1.050569   \n",
       "247          -0.198645           -0.131248        -0.207983   -0.255000   \n",
       "242          -0.244568           -0.110836        -0.166517    1.493605   \n",
       "215          -0.194483           -0.366301        -0.151755    1.607174   \n",
       "234          -0.200545           -0.362052        -0.225147    1.111413   \n",
       "\n",
       "     Frontal_Angle_QRST       Age  Gender_f  Gender_m  \n",
       "32            -1.036413 -0.133371         0         1  \n",
       "137            1.755715 -0.444048         0         1  \n",
       "220           -0.889119 -0.133371         0         1  \n",
       "105           -1.000159 -0.288710         0         1  \n",
       "124           -1.111191  0.254975         1         0  \n",
       "..                  ...       ...       ...       ...  \n",
       "146           -1.094472  0.410313         1         0  \n",
       "247           -0.575994 -2.929464         0         1  \n",
       "242            1.504155 -2.929464         1         0  \n",
       "215            1.677556 -0.521718         0         1  \n",
       "234           -0.993922  1.420013         0         1  \n",
       "\n",
       "[198 rows x 11 columns]"
      ]
     },
     "execution_count": 8,
     "metadata": {},
     "output_type": "execute_result"
    }
   ],
   "source": [
    "X_train"
   ]
  },
  {
   "cell_type": "markdown",
   "metadata": {},
   "source": [
    "## Обучение ML моделей:"
   ]
  },
  {
   "cell_type": "markdown",
   "metadata": {},
   "source": [
    "__Объективным показателем качества в данном случае будет являться f1-score на класс паталогии и weighted avg f1-score__"
   ]
  },
  {
   "cell_type": "markdown",
   "metadata": {},
   "source": [
    "## Классификатор Tree"
   ]
  },
  {
   "cell_type": "markdown",
   "metadata": {},
   "source": [
    "Валидация в данном случае - результат кросс-валидвации cv=5. Все лучшие гиперпарамеетры для моделей как раз будем искать с помощью кросс-валидации"
   ]
  },
  {
   "cell_type": "code",
   "execution_count": 2,
   "metadata": {},
   "outputs": [
    {
     "ename": "NameError",
     "evalue": "name 'tree' is not defined",
     "output_type": "error",
     "traceback": [
      "\u001b[1;31m---------------------------------------------------------------------------\u001b[0m",
      "\u001b[1;31mNameError\u001b[0m                                 Traceback (most recent call last)",
      "Cell \u001b[1;32mIn[2], line 9\u001b[0m\n\u001b[0;32m      5\u001b[0m scores_data\u001b[39m=\u001b[39mpd\u001b[39m.\u001b[39mDataFrame()\n\u001b[0;32m      7\u001b[0m \u001b[39mfor\u001b[39;00m max_depth \u001b[39min\u001b[39;00m max_depth_values:\n\u001b[0;32m      8\u001b[0m     \u001b[39m# Изменяем глубину обучения дерева по циклу от 1 до 50 с шагом 1.\u001b[39;00m\n\u001b[1;32m----> 9\u001b[0m     clf \u001b[39m=\u001b[39m tree\u001b[39m.\u001b[39mDecisionTreeClassifier(criterion\u001b[39m=\u001b[39m\u001b[39m'\u001b[39m\u001b[39mentropy\u001b[39m\u001b[39m'\u001b[39m, max_depth\u001b[39m=\u001b[39mmax_depth, random_state\u001b[39m=\u001b[39mrs)\n\u001b[0;32m     10\u001b[0m     \u001b[39m# Обучаем дерево решений (с ограниченной глубиной) на подмножестве train.\u001b[39;00m\n\u001b[0;32m     11\u001b[0m     clf\u001b[39m.\u001b[39mfit(X_train, y_train)\n",
      "\u001b[1;31mNameError\u001b[0m: name 'tree' is not defined"
     ]
    }
   ],
   "source": [
    "# Зададим диапазон исследуемых значений.\n",
    "max_depth_values = range(1, 26)\n",
    "scores_iris_data = pd.DataFrame()\n",
    "rs = np.random.seed(17)\n",
    "scores_data=pd.DataFrame()\n",
    "\n",
    "for max_depth in max_depth_values:\n",
    "    # Изменяем глубину обучения дерева по циклу от 1 до 50 с шагом 1.\n",
    "    clf = tree.DecisionTreeClassifier(criterion='entropy', max_depth=max_depth, random_state=rs)\n",
    "    # Обучаем дерево решений (с ограниченной глубиной) на подмножестве train.\n",
    "    clf.fit(X_train, y_train)\n",
    "    # Записываем в отдельную переменную число правильных ответов на обученной модели дерева\n",
    "    train_score = clf.score(X_train, y_train)\n",
    "    No_validation_score = clf.score(X_test, y_test)\n",
    "    # Записываем в отдельную переменную число правильных ответов на обученной модели дерева\n",
    "    test_val_score = cross_val_score(clf, X_train, y_train, cv=5).mean()\n",
    "    # Создаем временный DataFrame.\n",
    "    temp_score_data = pd.DataFrame({'max_depth':[max_depth],\n",
    "                                    'Train_score':[train_score],\n",
    "                                    'Test_score':[No_validation_score],  \n",
    "                                    'Validation_score':[test_val_score]})\n",
    "    # Наращиваем DataFrame \"scores_iris_data\".\n",
    "    scores_data = scores_data.append(temp_score_data)\n",
    "\n",
    "fig = plt.figure(figsize = (13, 4))\n",
    "scores_data_long = pd.melt(scores_data, id_vars=['max_depth'],\n",
    "                           value_vars=['Train_score','Test_score','Validation_score'],\n",
    "                           var_name='set_type', value_name='score')\n",
    "sns.lineplot(x='max_depth', y='score', hue='set_type', data=scores_data_long);"
   ]
  },
  {
   "cell_type": "code",
   "execution_count": 3,
   "metadata": {},
   "outputs": [
    {
     "ename": "NameError",
     "evalue": "name 'GridSearchCV' is not defined",
     "output_type": "error",
     "traceback": [
      "\u001b[1;31m---------------------------------------------------------------------------\u001b[0m",
      "\u001b[1;31mNameError\u001b[0m                                 Traceback (most recent call last)",
      "Cell \u001b[1;32mIn[3], line 4\u001b[0m\n\u001b[0;32m      1\u001b[0m \u001b[39m#Подбор лучших параметров:\u001b[39;00m\n\u001b[0;32m      2\u001b[0m par \u001b[39m=\u001b[39m {\u001b[39m'\u001b[39m\u001b[39mmax_depth\u001b[39m\u001b[39m'\u001b[39m:\u001b[39mrange\u001b[39m(\u001b[39m1\u001b[39m, \u001b[39m8\u001b[39m), \u001b[39m'\u001b[39m\u001b[39mmin_samples_split\u001b[39m\u001b[39m'\u001b[39m:\u001b[39mrange\u001b[39m(\u001b[39m2\u001b[39m, \u001b[39m6\u001b[39m),\n\u001b[0;32m      3\u001b[0m      \u001b[39m'\u001b[39m\u001b[39mmin_samples_leaf\u001b[39m\u001b[39m'\u001b[39m:\u001b[39mrange\u001b[39m(\u001b[39m2\u001b[39m, \u001b[39m6\u001b[39m)}\n\u001b[1;32m----> 4\u001b[0m search \u001b[39m=\u001b[39m GridSearchCV(clf,par,cv\u001b[39m=\u001b[39m\u001b[39m5\u001b[39m)\n\u001b[0;32m      5\u001b[0m search\u001b[39m.\u001b[39mfit(X_train, y_train)\n\u001b[0;32m      6\u001b[0m search\u001b[39m.\u001b[39mbest_params_\n",
      "\u001b[1;31mNameError\u001b[0m: name 'GridSearchCV' is not defined"
     ]
    }
   ],
   "source": [
    "#Подбор лучших параметров:\n",
    "par = {'max_depth':range(1, 8), 'min_samples_split':range(2, 6),\n",
    "     'min_samples_leaf':range(2, 6)}\n",
    "search = GridSearchCV(clf,par,cv=5)\n",
    "search.fit(X_train, y_train)\n",
    "search.best_params_"
   ]
  },
  {
   "cell_type": "code",
   "execution_count": 4,
   "metadata": {},
   "outputs": [
    {
     "ename": "NameError",
     "evalue": "name 'search' is not defined",
     "output_type": "error",
     "traceback": [
      "\u001b[1;31m---------------------------------------------------------------------------\u001b[0m",
      "\u001b[1;31mNameError\u001b[0m                                 Traceback (most recent call last)",
      "Cell \u001b[1;32mIn[4], line 1\u001b[0m\n\u001b[1;32m----> 1\u001b[0m clf_best \u001b[39m=\u001b[39m search\u001b[39m.\u001b[39mbest_estimator_\n\u001b[0;32m      2\u001b[0m train_accuracy \u001b[39m=\u001b[39m clf_best\u001b[39m.\u001b[39mscore(X_train, y_train)\n\u001b[0;32m      3\u001b[0m test_accuracy \u001b[39m=\u001b[39m clf_best\u001b[39m.\u001b[39mscore(X_test, y_test)\n",
      "\u001b[1;31mNameError\u001b[0m: name 'search' is not defined"
     ]
    }
   ],
   "source": [
    "clf_best = search.best_estimator_\n",
    "train_accuracy = clf_best.score(X_train, y_train)\n",
    "test_accuracy = clf_best.score(X_test, y_test)\n",
    "print ('Точность модели на обучающей выборке: ', round (train_accuracy, 2))\n",
    "print ('Точность модели на тестовой выборке: ', round (test_accuracy, 2))\n",
    "\n",
    "print ('F1 score:', f1_score(y_test, clf_best.predict(X_test)))\n",
    "print ('Recall:', recall_score(y_test, clf_best.predict(X_test)))\n",
    "print ('Precision:', precision_score(y_test, clf_best.predict(X_test)))\n",
    "print ('\\n clasification report:\\n', classification_report(y_test, clf_best.predict(X_test)))\n",
    "\n",
    "print('Матрица несоответствий метода \"Дерево решений\":\\n')\n",
    "fig, ax = plt.subplots(figsize=(5, 5))\n",
    "disp = ConfusionMatrixDisplay(confusion_matrix(y_test, clf_best.predict(X_test)))\n",
    "disp.plot(cmap = 'Blues', ax=ax);"
   ]
  },
  {
   "cell_type": "markdown",
   "metadata": {},
   "source": [
    "\n",
    "#### Высокий precision в данном случае означает то, что практически все найденные больные реально больные\n",
    "\n",
    "#### Высокий recall в данном случае означает то, что практически все больные найдены"
   ]
  },
  {
   "cell_type": "markdown",
   "metadata": {},
   "source": [
    "Определим важность фичей:"
   ]
  },
  {
   "cell_type": "code",
   "execution_count": 5,
   "metadata": {},
   "outputs": [
    {
     "ename": "NameError",
     "evalue": "name 'X' is not defined",
     "output_type": "error",
     "traceback": [
      "\u001b[1;31m---------------------------------------------------------------------------\u001b[0m",
      "\u001b[1;31mNameError\u001b[0m                                 Traceback (most recent call last)",
      "Cell \u001b[1;32mIn[5], line 2\u001b[0m\n\u001b[0;32m      1\u001b[0m \u001b[39m# features - список названий ваших фичей\u001b[39;00m\n\u001b[1;32m----> 2\u001b[0m features \u001b[39m=\u001b[39m \u001b[39mlist\u001b[39m(X\u001b[39m.\u001b[39mcolumns)\n\u001b[0;32m      4\u001b[0m \u001b[39m# importances - список важности для каждой фичи\u001b[39;00m\n\u001b[0;32m      5\u001b[0m importances \u001b[39m=\u001b[39m clf_best\u001b[39m.\u001b[39mfeature_importances_\n",
      "\u001b[1;31mNameError\u001b[0m: name 'X' is not defined"
     ]
    }
   ],
   "source": [
    "# features - список названий ваших фичей\n",
    "features = list(X.columns)\n",
    "\n",
    "# importances - список важности для каждой фичи\n",
    "importances = clf_best.feature_importances_\n",
    "\n",
    "# Создаем DataFrame для удобства визуализации\n",
    "importance_df = pd.DataFrame({'Feature': features, 'Importance': importances})\n",
    "\n",
    "# Сортируем DataFrame по значению важности\n",
    "importance_df = importance_df.sort_values(by='Importance', ascending=False)\n",
    "\n",
    "# Настройки визуализации\n",
    "plt.figure(figsize=(10, 4))\n",
    "sns.barplot(x='Importance', y='Feature', data=importance_df, palette='viridis')\n",
    "plt.xlabel('Feature Importance')\n",
    "plt.ylabel('Features')\n",
    "plt.title('Feature Importance from Decision Tree')\n",
    "plt.show()"
   ]
  },
  {
   "cell_type": "markdown",
   "metadata": {},
   "source": [
    "__Итог:__  <br/>\n",
    "accuracy = 70%  <br/>\n",
    "f1 = 76%  <br/>\n",
    "weighted avg f1 = 71%\n"
   ]
  },
  {
   "cell_type": "markdown",
   "metadata": {},
   "source": [
    "\n",
    "## Random Forest"
   ]
  },
  {
   "cell_type": "markdown",
   "metadata": {},
   "source": [
    "Бэггинг позволяет снизить дисперсию (variance) обучаемого классификатора, уменьшая величину, на сколько ошибка будет отличаться, если обучать модель на разных наборах данных, или другими словами, предотвращает переобучение. "
   ]
  },
  {
   "cell_type": "markdown",
   "metadata": {},
   "source": [
    "С помощью кросс-валидации я определяю лучшие гиперпараметры а потом согласно ним провожу оценку на тесте"
   ]
  },
  {
   "cell_type": "code",
   "execution_count": 6,
   "metadata": {},
   "outputs": [
    {
     "ename": "NameError",
     "evalue": "name 'RandomForestClassifier' is not defined",
     "output_type": "error",
     "traceback": [
      "\u001b[1;31m---------------------------------------------------------------------------\u001b[0m",
      "\u001b[1;31mNameError\u001b[0m                                 Traceback (most recent call last)",
      "Cell \u001b[1;32mIn[6], line 1\u001b[0m\n\u001b[1;32m----> 1\u001b[0m clf \u001b[39m=\u001b[39m RandomForestClassifier(random_state\u001b[39m=\u001b[39m\u001b[39m17\u001b[39m)\n\u001b[0;32m      2\u001b[0m par \u001b[39m=\u001b[39m {\u001b[39m'\u001b[39m\u001b[39mn_estimators\u001b[39m\u001b[39m'\u001b[39m: \u001b[39mrange\u001b[39m(\u001b[39m13\u001b[39m, \u001b[39m20\u001b[39m), \u001b[39m'\u001b[39m\u001b[39mmax_depth\u001b[39m\u001b[39m'\u001b[39m : \u001b[39mrange\u001b[39m(\u001b[39m3\u001b[39m, \u001b[39m10\u001b[39m), \n\u001b[0;32m      3\u001b[0m      \u001b[39m'\u001b[39m\u001b[39mmin_samples_split\u001b[39m\u001b[39m'\u001b[39m : \u001b[39mrange\u001b[39m(\u001b[39m2\u001b[39m, \u001b[39m7\u001b[39m),\n\u001b[0;32m      4\u001b[0m      \u001b[39m'\u001b[39m\u001b[39mmin_samples_leaf\u001b[39m\u001b[39m'\u001b[39m: \u001b[39mrange\u001b[39m(\u001b[39m1\u001b[39m,\u001b[39m5\u001b[39m)}\n\u001b[0;32m      5\u001b[0m search \u001b[39m=\u001b[39m GridSearchCV(clf, par, cv\u001b[39m=\u001b[39m\u001b[39m5\u001b[39m, n_jobs\u001b[39m=\u001b[39m\u001b[39m-\u001b[39m\u001b[39m1\u001b[39m)\n",
      "\u001b[1;31mNameError\u001b[0m: name 'RandomForestClassifier' is not defined"
     ]
    }
   ],
   "source": [
    "clf = RandomForestClassifier(random_state=17)\n",
    "par = {'n_estimators': range(13, 20), 'max_depth' : range(3, 10), \n",
    "     'min_samples_split' : range(2, 7),\n",
    "     'min_samples_leaf': range(1,5)}\n",
    "search = GridSearchCV(clf, par, cv=5, n_jobs=-1)\n",
    "search.fit(X_train, y_train)\n",
    "search.best_params_"
   ]
  },
  {
   "cell_type": "code",
   "execution_count": 7,
   "metadata": {},
   "outputs": [
    {
     "ename": "NameError",
     "evalue": "name 'search' is not defined",
     "output_type": "error",
     "traceback": [
      "\u001b[1;31m---------------------------------------------------------------------------\u001b[0m",
      "\u001b[1;31mNameError\u001b[0m                                 Traceback (most recent call last)",
      "Cell \u001b[1;32mIn[7], line 1\u001b[0m\n\u001b[1;32m----> 1\u001b[0m clf_best_rf \u001b[39m=\u001b[39m search\u001b[39m.\u001b[39mbest_estimator_\n\u001b[0;32m      2\u001b[0m clf_best_rf\u001b[39m.\u001b[39mfit(X_train, y_train)\n\u001b[0;32m      4\u001b[0m train_accuracy_rf \u001b[39m=\u001b[39m clf_best_rf\u001b[39m.\u001b[39mscore(X_train, y_train)\n",
      "\u001b[1;31mNameError\u001b[0m: name 'search' is not defined"
     ]
    }
   ],
   "source": [
    "clf_best_rf = search.best_estimator_\n",
    "clf_best_rf.fit(X_train, y_train)\n",
    "\n",
    "train_accuracy_rf = clf_best_rf.score(X_train, y_train)\n",
    "test_accuracy_rf = clf_best_rf.score(X_test, y_test)\n",
    "print ('Точность модели на обучающей выборке: ', round (train_accuracy_rf, 2))\n",
    "print ('Точность модели на тестовой выборке: ', round (test_accuracy_rf, 2))\n",
    "\n",
    "print ('\\n clasification report:\\n', classification_report(y_test, clf_best_rf.predict(X_test)))\n",
    "\n",
    "print('Матрица несоответствий метода \"Случайный лес\":')\n",
    "fig, ax = plt.subplots(figsize=(5, 5))\n",
    "disp = ConfusionMatrixDisplay(confusion_matrix(y_test, clf_best_rf.predict(X_test)))\n",
    "disp.plot(cmap = 'Blues', ax=ax);"
   ]
  },
  {
   "cell_type": "markdown",
   "metadata": {},
   "source": [
    "__Итог:__  <br/>\n",
    "accuracy = 70%  <br/>\n",
    "f1 = 78%  <br/>\n",
    "weighted avg f1 = 69%"
   ]
  },
  {
   "cell_type": "markdown",
   "metadata": {},
   "source": [
    "## Логистическая регрессия"
   ]
  },
  {
   "cell_type": "code",
   "execution_count": 8,
   "metadata": {},
   "outputs": [
    {
     "ename": "NameError",
     "evalue": "name 'LogisticRegression' is not defined",
     "output_type": "error",
     "traceback": [
      "\u001b[1;31m---------------------------------------------------------------------------\u001b[0m",
      "\u001b[1;31mNameError\u001b[0m                                 Traceback (most recent call last)",
      "Cell \u001b[1;32mIn[8], line 1\u001b[0m\n\u001b[1;32m----> 1\u001b[0m LR_model \u001b[39m=\u001b[39m LogisticRegression(solver\u001b[39m=\u001b[39m\u001b[39m'\u001b[39m\u001b[39mliblinear\u001b[39m\u001b[39m'\u001b[39m)\n\u001b[0;32m      2\u001b[0m \u001b[39m# Обучим модель на обучающей выборке\u001b[39;00m\n\u001b[0;32m      3\u001b[0m LR_model\u001b[39m.\u001b[39mfit(X_train, y_train) \n",
      "\u001b[1;31mNameError\u001b[0m: name 'LogisticRegression' is not defined"
     ]
    }
   ],
   "source": [
    "LR_model = LogisticRegression(solver='liblinear')\n",
    "# Обучим модель на обучающей выборке\n",
    "LR_model.fit(X_train, y_train) \n",
    "# Предскажем класс тестовой выборки\n",
    "LR_prediction = LR_model.predict(X_test) \n",
    "\n",
    "LR_train_accuracy = LR_model.score(X_train, y_train)\n",
    "LR_test_accuracy = LR_model.score(X_test, y_test)\n",
    "print ('Точность модели на обучающей выборке: ', round (LR_train_accuracy, 2))\n",
    "print ('Точность модели на тестовой выборке: ', round (LR_test_accuracy, 2))\n",
    "\n",
    "print ('F1 score:', f1_score(y_test, LR_model.predict(X_test)))\n",
    "print ('Recall:', recall_score(y_test, LR_model.predict(X_test)))\n",
    "print ('Precision:', precision_score(y_test, LR_model.predict(X_test)))\n",
    "print ('\\n clasification report:\\n', classification_report(y_test, LR_model.predict(X_test)))\n",
    "\n",
    "print('Матрица несоответствий метода \"Логистическая регрессия\":')\n",
    "fig, ax = plt.subplots(figsize=(5, 5))\n",
    "disp = ConfusionMatrixDisplay(confusion_matrix(y_test, LR_model.predict(X_test)))\n",
    "disp.plot(cmap = 'Blues', ax=ax);"
   ]
  },
  {
   "cell_type": "markdown",
   "metadata": {},
   "source": [
    "Для модели логистической регрессии важность фичей можно оценить на основе абсолютных значений коэффициентов, которые модель присваивает каждому признаку. Большие абсолютные значения коэффициентов обычно указывают на более важные признаки."
   ]
  },
  {
   "cell_type": "code",
   "execution_count": 9,
   "metadata": {},
   "outputs": [
    {
     "ename": "NameError",
     "evalue": "name 'LR_model' is not defined",
     "output_type": "error",
     "traceback": [
      "\u001b[1;31m---------------------------------------------------------------------------\u001b[0m",
      "\u001b[1;31mNameError\u001b[0m                                 Traceback (most recent call last)",
      "Cell \u001b[1;32mIn[9], line 2\u001b[0m\n\u001b[0;32m      1\u001b[0m \u001b[39m# Получаем коэффициенты модели\u001b[39;00m\n\u001b[1;32m----> 2\u001b[0m coefficients \u001b[39m=\u001b[39m LR_model\u001b[39m.\u001b[39mcoef_[\u001b[39m0\u001b[39m]\n\u001b[0;32m      4\u001b[0m \u001b[39m# Список названий фичей\u001b[39;00m\n\u001b[0;32m      5\u001b[0m feature_names \u001b[39m=\u001b[39m X_train\u001b[39m.\u001b[39mcolumns\u001b[39m.\u001b[39mtolist()\n",
      "\u001b[1;31mNameError\u001b[0m: name 'LR_model' is not defined"
     ]
    }
   ],
   "source": [
    "# Получаем коэффициенты модели\n",
    "coefficients = LR_model.coef_[0]\n",
    "\n",
    "# Список названий фичей\n",
    "feature_names = X_train.columns.tolist()\n",
    "\n",
    "# Создаем DataFrame для удобства визуализации\n",
    "coef_df = pd.DataFrame({'Feature': feature_names, 'Coefficient': coefficients})\n",
    "\n",
    "# Сортируем DataFrame по абсолютному значению коэффициентов\n",
    "coef_df['Abs_Coefficient'] = np.abs(coef_df['Coefficient'])\n",
    "coef_df = coef_df.sort_values(by='Abs_Coefficient', ascending=False)\n",
    "\n",
    "# Визуализация\n",
    "plt.figure(figsize=(10, 4))\n",
    "sns.barplot(x='Abs_Coefficient', y='Feature', data=coef_df, palette='viridis')\n",
    "plt.xlabel('Absolute Coefficient')\n",
    "plt.ylabel('Features')\n",
    "plt.title('Feature Importance from Logistic Regression')\n",
    "plt.show()"
   ]
  },
  {
   "cell_type": "markdown",
   "metadata": {},
   "source": [
    "__Итог:__  <br/>\n",
    "accuracy = 75%  <br/>\n",
    "f1 = 81%  <br/>\n",
    "weighted avg f1 = 74%"
   ]
  },
  {
   "cell_type": "markdown",
   "metadata": {},
   "source": [
    "## KNN"
   ]
  },
  {
   "cell_type": "code",
   "execution_count": 10,
   "metadata": {},
   "outputs": [
    {
     "ename": "NameError",
     "evalue": "name 'KNeighborsClassifier' is not defined",
     "output_type": "error",
     "traceback": [
      "\u001b[1;31m---------------------------------------------------------------------------\u001b[0m",
      "\u001b[1;31mNameError\u001b[0m                                 Traceback (most recent call last)",
      "Cell \u001b[1;32mIn[10], line 1\u001b[0m\n\u001b[1;32m----> 1\u001b[0m clf \u001b[39m=\u001b[39m KNeighborsClassifier()\n\u001b[0;32m      2\u001b[0m par \u001b[39m=\u001b[39m {\u001b[39m'\u001b[39m\u001b[39mn_neighbors\u001b[39m\u001b[39m'\u001b[39m: \u001b[39mrange\u001b[39m(\u001b[39m1\u001b[39m, \u001b[39m15\u001b[39m)}\n\u001b[0;32m      3\u001b[0m search \u001b[39m=\u001b[39m GridSearchCV(clf, par, cv\u001b[39m=\u001b[39m\u001b[39m5\u001b[39m, n_jobs\u001b[39m=\u001b[39m\u001b[39m-\u001b[39m\u001b[39m1\u001b[39m)\n",
      "\u001b[1;31mNameError\u001b[0m: name 'KNeighborsClassifier' is not defined"
     ]
    }
   ],
   "source": [
    "clf = KNeighborsClassifier()\n",
    "par = {'n_neighbors': range(1, 15)}\n",
    "search = GridSearchCV(clf, par, cv=5, n_jobs=-1)\n",
    "search.fit(X_train, y_train)\n",
    "search.best_params_"
   ]
  },
  {
   "cell_type": "code",
   "execution_count": 11,
   "metadata": {},
   "outputs": [
    {
     "ename": "NameError",
     "evalue": "name 'KNeighborsClassifier' is not defined",
     "output_type": "error",
     "traceback": [
      "\u001b[1;31m---------------------------------------------------------------------------\u001b[0m",
      "\u001b[1;31mNameError\u001b[0m                                 Traceback (most recent call last)",
      "Cell \u001b[1;32mIn[11], line 1\u001b[0m\n\u001b[1;32m----> 1\u001b[0m KNN_model \u001b[39m=\u001b[39m KNeighborsClassifier(n_neighbors \u001b[39m=\u001b[39m \u001b[39m7\u001b[39m)\n\u001b[0;32m      2\u001b[0m KNN_model\u001b[39m.\u001b[39mfit(X_train, y_train)\n\u001b[0;32m      3\u001b[0m KNN_prediction \u001b[39m=\u001b[39m KNN_model\u001b[39m.\u001b[39mpredict(X_test)\n",
      "\u001b[1;31mNameError\u001b[0m: name 'KNeighborsClassifier' is not defined"
     ]
    }
   ],
   "source": [
    "KNN_model = KNeighborsClassifier(n_neighbors = 7)\n",
    "KNN_model.fit(X_train, y_train)\n",
    "KNN_prediction = KNN_model.predict(X_test)\n",
    "\n",
    "KNN_train_accuracy = KNN_model.score(X_train, y_train)\n",
    "KNN_test_accuracy = KNN_model.score(X_test, y_test)\n",
    "print ('Точность модели на обучающей выборке: ', round (KNN_train_accuracy, 2))\n",
    "print ('Точность модели на тестовой выборке: ', round (KNN_test_accuracy, 2))\n",
    "\n",
    "print ('\\n clasification report:\\n', classification_report(y_test, KNN_model.predict(X_test)))\n",
    "\n",
    "fig, ax = plt.subplots(figsize=(5, 5))\n",
    "print('Матрица несоответствий метода \"KNN\":')\n",
    "disp = ConfusionMatrixDisplay(confusion_matrix(KNN_prediction, y_test))\n",
    "disp.plot(cmap = 'Blues', ax=ax);"
   ]
  },
  {
   "cell_type": "markdown",
   "metadata": {},
   "source": [
    "Дополнительно оценим важность фичей для KNN-модели с помощью метода Permutation Importance, который перетасовывает значения одного признака в тестовой выборке и измеряет, как это влияет на точность модели"
   ]
  },
  {
   "cell_type": "code",
   "execution_count": 21,
   "metadata": {},
   "outputs": [
    {
     "data": {
      "image/png": "[encoded data removed]",
      "text/plain": [
       "<Figure size 1000x400 with 1 Axes>"
      ]
     },
     "metadata": {},
     "output_type": "display_data"
    }
   ],
   "source": [
    "from sklearn.inspection import permutation_importance\n",
    "\n",
    "# Вычисление перестановочной важности\n",
    "perm_importance = permutation_importance(KNN_model, X_test, y_test, n_repeats=30, random_state=0)\n",
    "\n",
    "# Список названий фичей\n",
    "feature_names = X_train.columns.tolist()\n",
    "\n",
    "# Создаем DataFrame для удобства визуализации\n",
    "perm_importance_df = pd.DataFrame({'Feature': feature_names, 'Importance': perm_importance.importances_mean})\n",
    "\n",
    "# Сортируем DataFrame по важности\n",
    "perm_importance_df = perm_importance_df.sort_values(by='Importance', ascending=False)\n",
    "\n",
    "# Визуализация\n",
    "plt.figure(figsize=(10, 4))\n",
    "sns.barplot(x='Importance', y='Feature', data=perm_importance_df, palette='viridis')\n",
    "plt.xlabel('Permutation Importance')\n",
    "plt.ylabel('Features')\n",
    "plt.title('Feature Importance from Permutation Importance (KNN)')\n",
    "plt.show()\n"
   ]
  },
  {
   "cell_type": "markdown",
   "metadata": {},
   "source": [
    "__Итог:__  <br/>\n",
    "accuracy = 70%  <br/>\n",
    "f1 = 75%  <br/>\n",
    "weighted avg f1 = 71%"
   ]
  },
  {
   "cell_type": "markdown",
   "metadata": {},
   "source": [
    "## SVM - Метод опорных векторов"
   ]
  },
  {
   "cell_type": "code",
   "execution_count": 22,
   "metadata": {},
   "outputs": [
    {
     "data": {
      "text/plain": [
       "{'degree': 1}"
      ]
     },
     "execution_count": 22,
     "metadata": {},
     "output_type": "execute_result"
    }
   ],
   "source": [
    "clf = SVC()\n",
    "par={'degree': range(1,15)}\n",
    "search=GridSearchCV(clf, par, cv=5, n_jobs=-1)\n",
    "search.fit(X_train, y_train)\n",
    "search.best_params_"
   ]
  },
  {
   "cell_type": "code",
   "execution_count": 26,
   "metadata": {},
   "outputs": [
    {
     "name": "stdout",
     "output_type": "stream",
     "text": [
      "Точность модели на обучающей выборке:  0.74\n",
      "Точность модели на тестовой выборке:  0.73\n",
      "\n",
      " clasification report:\n",
      "               precision    recall  f1-score   support\n",
      "\n",
      "           0       0.62      0.57      0.59        23\n",
      "           1       0.78      0.82      0.80        44\n",
      "\n",
      "    accuracy                           0.73        67\n",
      "   macro avg       0.70      0.69      0.70        67\n",
      "weighted avg       0.73      0.73      0.73        67\n",
      "\n",
      "Матрица несоответствий метода опорных векторов:\n"
     ]
    },
    {
     "data": {
      "image/png": "[encoded data removed]",
      "text/plain": [
       "<Figure size 500x500 with 2 Axes>"
      ]
     },
     "metadata": {},
     "output_type": "display_data"
    }
   ],
   "source": [
    "SVC_model = SVC(gamma='scale', kernel='poly', degree=1) \n",
    "SVC_model.fit(X_train, y_train)\n",
    "SVC_prediction = SVC_model.predict(X_test) \n",
    "\n",
    "SVC_train_accuracy = SVC_model.score(X_train, y_train)\n",
    "SVC_test_accuracy = SVC_model.score(X_test, y_test)\n",
    "print ('Точность модели на обучающей выборке: ', round (SVC_train_accuracy, 2))\n",
    "print ('Точность модели на тестовой выборке: ', round (SVC_test_accuracy, 2))\n",
    "\n",
    "print ('\\n clasification report:\\n', classification_report(y_test, SVC_model.predict(X_test)))\n",
    "\n",
    "fig, ax = plt.subplots(figsize=(5, 5))\n",
    "print('Матрица несоответствий метода опорных векторов:')\n",
    "disp = ConfusionMatrixDisplay(confusion_matrix(SVC_prediction, y_test))\n",
    "disp.plot(cmap = 'Blues', ax=ax);"
   ]
  },
  {
   "cell_type": "markdown",
   "metadata": {},
   "source": [
    "__Итог:__  <br/>\n",
    "accuracy = 73%  <br/>\n",
    "f1 = 80%  <br/>\n",
    "weighted avg f1 = 73%"
   ]
  },
  {
   "cell_type": "markdown",
   "metadata": {},
   "source": [
    "## Градиентный бустинг - CatBoostClassifier"
   ]
  },
  {
   "cell_type": "code",
   "execution_count": 31,
   "metadata": {},
   "outputs": [
    {
     "name": "stdout",
     "output_type": "stream",
     "text": [
      "Наилучшие параметры: {'depth': 3, 'iterations': 200, 'learning_rate': 0.1}\n"
     ]
    }
   ],
   "source": [
    "# Создаем модель CatBoost\n",
    "catboost_model = CatBoostClassifier()\n",
    "\n",
    "# Определяем сетку параметров для поиска\n",
    "param_grid = {\n",
    "    'depth': [3, 5, 7],             # пример значений глубины деревьев\n",
    "    'learning_rate': [0.01, 0.1],  # пример значений скорости обучения\n",
    "    'iterations': [100, 200, 300]       # пример значений числа деревьев\n",
    "}\n",
    "\n",
    "# Инициализируем GridSearchCV\n",
    "search = GridSearchCV(estimator=catboost_model, param_grid=param_grid, cv=5, n_jobs=-1)\n",
    "\n",
    "# Производим поиск наилучших параметров\n",
    "search.fit(X_train, y_train, verbose_eval=False)\n",
    "\n",
    "# Выводим наилучшие параметры\n",
    "print(\"Наилучшие параметры:\", search.best_params_)"
   ]
  },
  {
   "cell_type": "code",
   "execution_count": 35,
   "metadata": {},
   "outputs": [
    {
     "name": "stdout",
     "output_type": "stream",
     "text": [
      "Точность модели на обучающей выборке: 1.0\n",
      "Точность модели на тестовой выборке: 0.75\n",
      "\n",
      "Classification Report:\n",
      "               precision    recall  f1-score   support\n",
      "\n",
      "           0       0.62      0.65      0.64        23\n",
      "           1       0.81      0.80      0.80        44\n",
      "\n",
      "    accuracy                           0.75        67\n",
      "   macro avg       0.72      0.72      0.72        67\n",
      "weighted avg       0.75      0.75      0.75        67\n",
      "\n",
      "Матрица несоответствий метода градиентного бустинга:\n"
     ]
    },
    {
     "data": {
      "image/png": "[encoded data removed]",
      "text/plain": [
       "<Figure size 500x500 with 2 Axes>"
      ]
     },
     "metadata": {},
     "output_type": "display_data"
    }
   ],
   "source": [
    "# Создаем модель CatBoost\n",
    "catboost_model = CatBoostClassifier(iterations=200,  # Например, начнем с 100 деревьев\n",
    "                                    depth=3,\n",
    "                                    learning_rate=0.1,\n",
    "                                    loss_function='Logloss',\n",
    "                                    random_seed=42,\n",
    "                                    verbose=200)\n",
    "\n",
    "# Обучаем модель на обучающей выборке\n",
    "catboost_model.fit(X_train, y_train, verbose_eval=False)\n",
    "\n",
    "# Предсказываем классы на тестовой выборке\n",
    "catboost_predictions = catboost_model.predict(X_test)\n",
    "\n",
    "# Вычисляем точность модели на обучающей выборке\n",
    "catboost_train_accuracy = catboost_model.score(X_train, y_train)\n",
    "\n",
    "# Вычисляем точность модели на тестовой выборке\n",
    "catboost_test_accuracy = catboost_model.score(X_test, y_test)\n",
    "\n",
    "# Выводим точность на обучающей и тестовой выборках\n",
    "print('Точность модели на обучающей выборке:', round(catboost_train_accuracy, 2))\n",
    "print('Точность модели на тестовой выборке:', round(catboost_test_accuracy, 2))\n",
    "\n",
    "# Выводим отчет о классификации\n",
    "print('\\nClassification Report:\\n', classification_report(y_test, catboost_predictions))\n",
    "\n",
    "fig, ax = plt.subplots(figsize=(5, 5))\n",
    "print('Матрица несоответствий метода градиентного бустинга:')\n",
    "disp = ConfusionMatrixDisplay(confusion_matrix(catboost_predictions, y_test))\n",
    "disp.plot(cmap = 'Blues', ax=ax);"
   ]
  },
  {
   "cell_type": "markdown",
   "metadata": {},
   "source": [
    "__Итог:__  <br/>\n",
    "accuracy = 75%  <br/>\n",
    "f1 = 80%  <br/>\n",
    "weighted avg f1 = 75%"
   ]
  },
  {
   "cell_type": "markdown",
   "metadata": {},
   "source": [
    "## ВЫВОД:\n",
    "__Лучшие результаты показали модель градиентного бустинга, достигнув результатов accuracy = 75%, f1 = 80%, weighted avg f1 = 75% и модель логистической регрессии, которая достигла на тесте accuracy = 75%, f1 = 81% и weighted avg f1 = 74%.__"
   ]
  },
  {
   "cell_type": "markdown",
   "metadata": {},
   "source": [
    "---"
   ]
  },
  {
   "cell_type": "markdown",
   "metadata": {},
   "source": [
    "# Вычислению значения фракции левого желудочка (задача регресии)"
   ]
  },
  {
   "cell_type": "code",
   "execution_count": 70,
   "metadata": {},
   "outputs": [
    {
     "name": "stdout",
     "output_type": "stream",
     "text": [
      "Анализируются следующие 11 признаков: ['Square_QRS_frontal', 'Square_QRS_sagittal', 'Square_QRS_axial', 'Square_ST_frontal', 'Square_ST_sagittal', 'Square_ST_axial', 'Angle_QRST', 'Frontal_Angle_QRST', 'Age', 'Gender_f', 'Gender_m']\n"
     ]
    }
   ],
   "source": [
    "y = df['EF']\n",
    "X = df.drop(['FileID', 'class', 'EF'], axis=1)\n",
    "print(f\"Анализируются следующие {len(list(X.columns))} признаков: {list(X.columns)}\")"
   ]
  },
  {
   "cell_type": "code",
   "execution_count": 63,
   "metadata": {},
   "outputs": [],
   "source": [
    "X_train, X_test, y_train, y_test = train_test_split(X, y, test_size=0.25, random_state=42)\n",
    "\n",
    "# Выделим признаки для нормализации\n",
    "features_to_normalize = ['Square_QRS_frontal', 'Square_QRS_sagittal', 'Square_QRS_axial', \n",
    "                         'Square_ST_frontal', 'Square_ST_sagittal', 'Square_ST_axial', \n",
    "                         'Angle_QRST', 'Frontal_Angle_QRST', 'Age']\n",
    "\n",
    "# Создадим объект для стандартизации и подгоним его на тренировочных данных\n",
    "scaler = StandardScaler()\n",
    "scaler.fit(X_train[features_to_normalize])\n",
    "\n",
    "\n",
    "with warnings.catch_warnings():\n",
    "    # Отключаем предупреждения типа SettingWithCopyWarning\n",
    "    warnings.simplefilter(\"ignore\", category=SettingWithCopyWarning)\n",
    "\n",
    "    # Нормализуем признаки на тренировочном и валидационном наборах\n",
    "    X_train[features_to_normalize] = scaler.transform(X_train[features_to_normalize])\n",
    "    X_test[features_to_normalize] = scaler.transform(X_test[features_to_normalize])"
   ]
  },
  {
   "cell_type": "markdown",
   "metadata": {},
   "source": [
    "## Градиентный бустинг - CatBoostRegressor"
   ]
  },
  {
   "cell_type": "code",
   "execution_count": 64,
   "metadata": {},
   "outputs": [
    {
     "name": "stdout",
     "output_type": "stream",
     "text": [
      "Наилучшие параметры: {'depth': 6, 'iterations': 200, 'learning_rate': 0.05}\n",
      "Среднеквадратичная ошибка (MSE): 125.14443678401148\n",
      "Средняя абсолютная ошибка (MAE): 9.236442179324584\n"
     ]
    },
    {
     "data": {
      "image/png": "[encoded data removed]",
      "text/plain": [
       "<Figure size 640x480 with 1 Axes>"
      ]
     },
     "metadata": {},
     "output_type": "display_data"
    }
   ],
   "source": [
    "# Создаем модель CatBoostRegressor\n",
    "catboost_regressor = CatBoostRegressor()\n",
    "\n",
    "# Определяем сетку параметров для поиска\n",
    "param_grid = {\n",
    "    'depth': [3, 4, 5, 6],             # пример значений глубины деревьев\n",
    "    'learning_rate': [0.05, 0.1],  # пример значений скорости обучения\n",
    "    'iterations': [150, 200, 250]       # пример значений числа деревьев\n",
    "}\n",
    "\n",
    "# Инициализируем GridSearchCV\n",
    "search = GridSearchCV(estimator=catboost_regressor, param_grid=param_grid, cv=5, n_jobs=-1, verbose=0)\n",
    "\n",
    "# Производим поиск наилучших параметров\n",
    "search.fit(X_train, y_train, verbose_eval=False)\n",
    "\n",
    "# Выводим наилучшие параметры\n",
    "print(\"Наилучшие параметры:\", search.best_params_)\n",
    "\n",
    "# Создаем модель CatBoostRegressor с наилучшими параметрами\n",
    "best_catboost_regressor = CatBoostRegressor(**search.best_params_)\n",
    "\n",
    "# Обучаем модель на обучающей выборке\n",
    "best_catboost_regressor.fit(X_train, y_train, verbose_eval=False)\n",
    "\n",
    "# Предсказываем значения на тестовой выборке\n",
    "catboost_predictions = best_catboost_regressor.predict(X_test)\n",
    "\n",
    "# Вычисляем среднеквадратичную ошибку на тестовой выборке\n",
    "mse = mean_squared_error(y_test, catboost_predictions)\n",
    "\n",
    "# Выводим среднеквадратичную ошибку\n",
    "print('Среднеквадратичная ошибка (MSE):', mse)\n",
    "\n",
    "# Вычисляем среднюю абсолютную ошибку (MAE)\n",
    "mae = mean_absolute_error(y_test, catboost_predictions)\n",
    "print('Средняя абсолютная ошибка (MAE):', mae)\n",
    "\n",
    "# Строим гистограмму отклонений\n",
    "errors = y_test - catboost_predictions\n",
    "plt.hist(errors, bins=30)\n",
    "plt.xlabel('Отклонение')\n",
    "plt.ylabel('Частота')\n",
    "plt.title('Гистограмма отклонений')\n",
    "plt.show()"
   ]
  },
  {
   "cell_type": "markdown",
   "metadata": {},
   "source": [
    "## Линейная регрессия:"
   ]
  },
  {
   "cell_type": "code",
   "execution_count": 89,
   "metadata": {},
   "outputs": [
    {
     "name": "stdout",
     "output_type": "stream",
     "text": [
      "Среднеквадратичная ошибка линейной регрессии (MSE): 160.9698834021293\n",
      "Средняя абсолютная ошибка линейной регрессии (MAE): 10.409679953298255\n"
     ]
    },
    {
     "data": {
      "image/png": "[encoded data removed]",
      "text/plain": [
       "<Figure size 640x480 with 1 Axes>"
      ]
     },
     "metadata": {},
     "output_type": "display_data"
    }
   ],
   "source": [
    "# Обучаем линейную регрессию\n",
    "linear_regressor = LinearRegression()\n",
    "linear_regressor.fit(X_train, y_train)\n",
    "\n",
    "# Предсказываем значения на тестовой выборке с помощью линейной регрессии\n",
    "linear_predictions = linear_regressor.predict(X_test)\n",
    "\n",
    "# Вычисляем среднеквадратичную ошибку на тестовой выборке для линейной регрессии\n",
    "mse_linear = mean_squared_error(y_test, linear_predictions)\n",
    "print('Среднеквадратичная ошибка линейной регрессии (MSE):', mse_linear)\n",
    "\n",
    "# Вычисляем среднюю абсолютную ошибку (MAE) для линейной регрессии\n",
    "mae_linear = mean_absolute_error(y_test, linear_predictions)\n",
    "print('Средняя абсолютная ошибка линейной регрессии (MAE):', mae_linear)\n",
    "\n",
    "# Строим гистограмму отклонений для линейной регрессии\n",
    "errors_linear = y_test - linear_predictions\n",
    "plt.hist(errors_linear, bins=30)\n",
    "plt.xlabel('Отклонение')\n",
    "plt.ylabel('Частота')\n",
    "plt.title('Гистограмма отклонений линейной регрессии')\n",
    "plt.show()"
   ]
  },
  {
   "cell_type": "code",
   "execution_count": 90,
   "metadata": {},
   "outputs": [
    {
     "data": {
      "image/png": "[encoded data removed]",
      "text/plain": [
       "<Figure size 1000x400 with 1 Axes>"
      ]
     },
     "metadata": {},
     "output_type": "display_data"
    }
   ],
   "source": [
    "# Получаем коэффициенты модели\n",
    "coefficients = linear_regressor.coef_\n",
    "\n",
    "# Список названий фичей\n",
    "feature_names = X_train.columns.tolist()\n",
    "\n",
    "# Создаем DataFrame для удобства визуализации\n",
    "coef_df = pd.DataFrame({'Feature': feature_names, 'Coefficient': coefficients})\n",
    "\n",
    "# Сортируем DataFrame по абсолютному значению коэффициентов\n",
    "coef_df['Abs_Coefficient'] = np.abs(coef_df['Coefficient'])\n",
    "coef_df = coef_df.sort_values(by='Abs_Coefficient', ascending=False)\n",
    "\n",
    "# Визуализация\n",
    "plt.figure(figsize=(10, 4))\n",
    "sns.barplot(x='Abs_Coefficient', y='Feature', data=coef_df, palette='viridis')\n",
    "plt.xlabel('Absolute Coefficient')\n",
    "plt.ylabel('Features')\n",
    "plt.title('Feature Importance from Linear Regression')\n",
    "plt.show()\n"
   ]
  },
  {
   "cell_type": "markdown",
   "metadata": {},
   "source": [
    "## ВЫВОД:\n",
    "__Лучшие результаты показала модель градиентного бустинга, достигнув результатов MAE=9.2. Было определено, что пространсвенный угол QRST во всех исследованных методах регрессии и классификации имеет самую высокую значимость в финальной оценке__"
   ]
  }
 ],
 "metadata": {
  "kernelspec": {
   "display_name": "base",
   "language": "python",
   "name": "python3"
  },
  "language_info": {
   "codemirror_mode": {
    "name": "ipython",
    "version": 3
   },
   "file_extension": ".py",
   "mimetype": "text/x-python",
   "name": "python",
   "nbconvert_exporter": "python",
   "pygments_lexer": "ipython3",
   "version": "3.8.16"
  },
  "orig_nbformat": 4
 },
 "nbformat": 4,
 "nbformat_minor": 2
}
