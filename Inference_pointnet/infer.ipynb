{
 "cells": [
  {
   "cell_type": "code",
   "execution_count": 1,
   "metadata": {},
   "outputs": [
    {
     "name": "stdout",
     "output_type": "stream",
     "text": [
      "Dataset_30_sec\\TG1\n"
     ]
    },
    {
     "name": "stderr",
     "output_type": "stream",
     "text": [
      " 47%|████▋     | 468/1000 [08:55<07:56,  1.12it/s]"
     ]
    },
    {
     "name": "stdout",
     "output_type": "stream",
     "text": [
      "На I отведении не удалось детектировать R зубцы\n",
      "Проводим детектирование по II отведению:\n",
      "На I отведении не удалось детектировать R зубцы\n",
      "Проводим детектирование по II отведению:\n",
      "На I отведении не удалось детектировать R зубцы\n",
      "Проводим детектирование по II отведению:\n",
      "На I отведении не удалось детектировать R зубцы\n",
      "Проводим детектирование по II отведению:\n",
      "На I отведении не удалось детектировать R зубцы\n",
      "Проводим детектирование по II отведению:\n",
      "На I отведении не удалось детектировать R зубцы\n",
      "Проводим детектирование по II отведению:\n"
     ]
    },
    {
     "name": "stderr",
     "output_type": "stream",
     "text": [
      "100%|██████████| 1000/1000 [16:42<00:00,  1.00s/it]\n"
     ]
    },
    {
     "name": "stdout",
     "output_type": "stream",
     "text": [
      "Dataset_30_sec\\TG10\n"
     ]
    },
    {
     "name": "stderr",
     "output_type": "stream",
     "text": [
      "100%|██████████| 1000/1000 [15:02<00:00,  1.11it/s]\n"
     ]
    },
    {
     "name": "stdout",
     "output_type": "stream",
     "text": [
      "Dataset_30_sec\\TG11\n"
     ]
    },
    {
     "name": "stderr",
     "output_type": "stream",
     "text": [
      "100%|██████████| 795/795 [12:33<00:00,  1.06it/s]\n"
     ]
    },
    {
     "name": "stdout",
     "output_type": "stream",
     "text": [
      "Dataset_30_sec\\TG2\n"
     ]
    },
    {
     "name": "stderr",
     "output_type": "stream",
     "text": [
      "100%|██████████| 1001/1001 [15:36<00:00,  1.07it/s]\n"
     ]
    },
    {
     "name": "stdout",
     "output_type": "stream",
     "text": [
      "Dataset_30_sec\\TG3\n"
     ]
    },
    {
     "name": "stderr",
     "output_type": "stream",
     "text": [
      "100%|██████████| 1000/1000 [17:13<00:00,  1.03s/it]\n"
     ]
    },
    {
     "name": "stdout",
     "output_type": "stream",
     "text": [
      "Dataset_30_sec\\TG4\n"
     ]
    },
    {
     "name": "stderr",
     "output_type": "stream",
     "text": [
      "100%|██████████| 1000/1000 [15:46<00:00,  1.06it/s]\n"
     ]
    },
    {
     "name": "stdout",
     "output_type": "stream",
     "text": [
      "Dataset_30_sec\\TG5\n"
     ]
    },
    {
     "name": "stderr",
     "output_type": "stream",
     "text": [
      "100%|██████████| 1000/1000 [15:55<00:00,  1.05it/s]\n"
     ]
    },
    {
     "name": "stdout",
     "output_type": "stream",
     "text": [
      "Dataset_30_sec\\TG6\n"
     ]
    },
    {
     "name": "stderr",
     "output_type": "stream",
     "text": [
      " 82%|████████▏ | 823/1000 [14:54<03:23,  1.15s/it]"
     ]
    }
   ],
   "source": [
    "from functions import *\n",
    "import os\n",
    "from tqdm import tqdm\n",
    "datset_path = 'Dataset_30_sec'\n",
    "list_of_periods = [2,3,4,5,6,7]\n",
    "\n",
    "results = []\n",
    "\n",
    "# Проходим по всем папкам внутри 'Dataset'\n",
    "folders = os.listdir(datset_path)\n",
    "for dir in folders:\n",
    "    folder_path = os.path.join(datset_path, dir)\n",
    "    for root, dirs, files in os.walk(folder_path):\n",
    "            print(root)\n",
    "            n = 0\n",
    "            for file_name in tqdm(files):\n",
    "                file_path = os.path.join(root, file_name)\n",
    "                res_ill = 0\n",
    "                res_good = 0\n",
    "                error = 0\n",
    "                conf_ill = 0 # значение конфиденсов диагноза болен\n",
    "                n += 1\n",
    "                \n",
    "                for i in list_of_periods:\n",
    "                    input_data = {}\n",
    "                    input_data[\"data_edf\"] =  file_path\n",
    "                    input_data[\"n_term_start\"] = i\n",
    "                    input_data[\"n_term_finish\"] = None\n",
    "                    input_data[\"filt\"] = True\n",
    "                    input_data[\"f_sreza\"] = 0.7\n",
    "                    input_data[\"f_sampling\"] = 2000\n",
    "                    input_data[\"show_ecg\"] = False\n",
    "                    input_data[\"plot_3d\"] = False\n",
    "                    input_data[\"qrs_loop_area\"] = False\n",
    "                    input_data[\"t_loop_area\"] = False\n",
    "                    input_data[\"count_qrst_angle\"] = False\n",
    "                    input_data[\"mean_filter\"] = False\n",
    "                    input_data[\"predict\"] = True\n",
    "                    input_data[\"plot_projections\"] = False\n",
    "                    input_data[\"logs\"] = False\n",
    "                    input_data[\"save_coord\"] = False\n",
    "                    input_data[\"pr_delta\"] = 0.5\n",
    "                    input_data[\"show_xyz\"] = False\n",
    "                    # Запустим главную функцию получения ВЭКГ и СППР\n",
    "                    result_dict = get_VECG(input_data)\n",
    "                    res = result_dict['text']\n",
    "                    #print(res[3])\n",
    "\n",
    "                    if len(res)==4:\n",
    "                        if res[3].split(' ')[0] == \"Болен\":\n",
    "                            res_ill += 1\n",
    "                            conf_ill += float(res[3].split(' ')[-1][:-4])\n",
    "                        else:\n",
    "                            res_good += 1\n",
    "                            conf_ill += 100 - float(res[3].split(' ')[-1][:-4])\n",
    "                    else:\n",
    "                        error += 1\n",
    "                if res_ill > res_good:\n",
    "                    result = \"Болен\"\n",
    "                    percent = res_ill * 100 /(res_ill+res_good)\n",
    "                    conf = conf_ill/(res_ill+res_good)\n",
    "                else:\n",
    "                    result = \"Здоров\"\n",
    "                    percent = res_good * 100/(res_ill+res_good)\n",
    "                    conf = 100 - conf_ill/(res_ill+res_good)\n",
    "                if error == len(list_of_periods):\n",
    "                    print(f'Не обработался файл{file_name}')\n",
    "                    results.append({'Файл': file_name, 'Итоговый Результат': 'Ошибка обработки', 'Всего предсказаний': 0,\n",
    "                                    'Процент соответствующих пердсказаний': '-', 'Средняя уверенность классификатора': '-',\n",
    "                                    'Confidence ill': '-' })\n",
    "                else:\n",
    "                    results.append({'Файл': file_name, 'Итоговый Результат': result, 'Всего предсказаний': res_ill+res_good,\n",
    "                                    'Процент соответствующих пердсказаний': str(round(percent))+'%',\n",
    "                                    'Средняя уверенность классификатора': str(round(conf,2))+'%',\n",
    "                                    'Confidence ill': str(round(conf_ill/(res_ill+res_good),2))+'%'})\n",
    "                    \n",
    "# Создаем DataFrame из списка результатов\n",
    "df = pd.DataFrame(results)\n",
    "\n",
    "# Записываем данные в Excel\n",
    "#excel_file = 'last_10_sec_results/last_10_sec_results_new_model_05_delta_подробно.xlsx'\n",
    "excel_file = 'first_10_sec_results/first_10_sec_results_new_model_05_delta_подробно.xlsx'\n",
    "df.to_excel(excel_file, index=False)\n",
    "print(f\"Результаты сохранены в {excel_file}\")               \n"
   ]
  },
  {
   "cell_type": "code",
   "execution_count": 2,
   "metadata": {},
   "outputs": [],
   "source": [
    "from functions import *\n",
    "import os\n",
    "from tqdm import tqdm\n",
    "datset_path = 'Dataset'\n",
    "list_of_periods = [2,3,4,5,6,7]\n",
    "\n",
    "results = []\n",
    "\n",
    "# Проходим по всем папкам внутри 'Dataset'\n",
    "folders = os.listdir(datset_path)\n",
    "for dir in folders:\n",
    "    folder_path = os.path.join(datset_path, dir)\n",
    "    for root, dirs, files in os.walk(folder_path):\n",
    "            print(root)\n",
    "            n = 0\n",
    "            for file_name in tqdm(files):\n",
    "                file_path = os.path.join(root, file_name)\n",
    "                res_ill = 0\n",
    "                res_good = 0\n",
    "                error = 0\n",
    "                conf_ill = 0 # значение конфиденсов диагноза болен\n",
    "                n += 1\n",
    "                \n",
    "                for i in list_of_periods:\n",
    "                    input_data = {}\n",
    "                    input_data[\"data_edf\"] =  file_path\n",
    "                    input_data[\"n_term_start\"] = i\n",
    "                    input_data[\"n_term_finish\"] = None\n",
    "                    input_data[\"filt\"] = True\n",
    "                    input_data[\"f_sreza\"] = 0.7\n",
    "                    input_data[\"f_sampling\"] = 2000\n",
    "                    input_data[\"show_ecg\"] = False\n",
    "                    input_data[\"plot_3d\"] = False\n",
    "                    input_data[\"qrs_loop_area\"] = False\n",
    "                    input_data[\"t_loop_area\"] = False\n",
    "                    input_data[\"count_qrst_angle\"] = False\n",
    "                    input_data[\"mean_filter\"] = False\n",
    "                    input_data[\"predict\"] = True\n",
    "                    input_data[\"plot_projections\"] = False\n",
    "                    input_data[\"logs\"] = False\n",
    "                    # Запустим главную функцию получения ВЭКГ и СППР\n",
    "                    res = get_VECG(input_data)\n",
    "\n",
    "                    if len(res)==4:\n",
    "                        if res[3].split(' ')[0] == \"Болен\":\n",
    "                            res_ill += 1\n",
    "                            conf_ill += float(res[3].split(' ')[-1][:-2])\n",
    "                        else:\n",
    "                            res_good += 1\n",
    "                            conf_ill += 100 - float(res[3].split(' ')[-1][:-2])\n",
    "                    else:\n",
    "                        error += 1\n",
    "                if res_ill > res_good:\n",
    "                    result = \"Болен\"\n",
    "                    percent = res_ill * 100 /(res_ill+res_good)\n",
    "                    conf = conf_ill/(res_ill+res_good)\n",
    "                else:\n",
    "                    result = \"Здоров\"\n",
    "                    percent = res_good * 100/(res_ill+res_good)\n",
    "                    conf = 100 - conf_ill/(res_ill+res_good)\n",
    "                if error == len(list_of_periods):\n",
    "                    print(f'Не обработался файл{file_name}')\n",
    "                    results.append({'Файл': file_name, 'Всего предсказаний': res_ill+res_good,\n",
    "                                    'Уверенность в диагнозе БОЛЕН': '-','Уверенность в диагнозе ЗДОРОВ': '-' })\n",
    "                else:\n",
    "                    c_ill = round(conf_ill/(res_ill+res_good),2)\n",
    "                    c_good = round(100-c_ill, 2)\n",
    "                    results.append({'Файл': file_name, 'Всего предсказаний': res_ill+res_good,\n",
    "                                    'Уверенность в диагнозе БОЛЕН': str(c_ill)+'%','Уверенность в диагнозе ЗДОРОВ': str(c_good)+'%' })\n",
    "                    \n",
    "# Создаем DataFrame из списка результатов\n",
    "df = pd.DataFrame(results)\n",
    "\n",
    "# Записываем данные в Excel\n",
    "excel_file = 'first_10_sec_results/уверенности.xlsx'\n",
    "df.to_excel(excel_file, index=False)\n",
    "print(f\"Результаты сохранены в {excel_file}\")          "
   ]
  },
  {
   "cell_type": "code",
   "execution_count": 3,
   "metadata": {},
   "outputs": [
    {
     "name": "stdout",
     "output_type": "stream",
     "text": [
      "Количество здоровых пациентов: 6280\n",
      "Количество больных пациентов: 4516\n"
     ]
    }
   ],
   "source": [
    "import pandas as pd\n",
    "\n",
    "# Указываем путь к файлу Excel\n",
    "file_path = 'last_10_sec_results/last_10_sec_results_подробно.xlsx'\n",
    "\n",
    "# Загружаем данные из файла Excel в объект DataFrame\n",
    "df = pd.read_excel(file_path)\n",
    "\n",
    "# Предположим, у вас есть столбец 'статус' (или любой другой), который указывает на состояние пациента\n",
    "# Подсчитываем количество здоровых и больных пациентов\n",
    "healthy_count = df[df['Итоговый Результат'] == 'Здоров'].shape[0]\n",
    "sick_count = df[df['Итоговый Результат'] == 'Болен'].shape[0]\n",
    "\n",
    "# Выводим информацию о пропорции здоровых и больных пациентов\n",
    "print(f\"Количество здоровых пациентов: {healthy_count}\")\n",
    "print(f\"Количество больных пациентов: {sick_count}\")\n"
   ]
  },
  {
   "cell_type": "code",
   "execution_count": 4,
   "metadata": {},
   "outputs": [
    {
     "data": {
      "image/png": "[encoded data removed]",
      "text/plain": [
       "<Figure size 800x600 with 1 Axes>"
      ]
     },
     "metadata": {},
     "output_type": "display_data"
    }
   ],
   "source": [
    "import matplotlib.pyplot as plt\n",
    "\n",
    "# Создаем список для количества здоровых и больных пациентов\n",
    "counts = [healthy_count, sick_count]\n",
    "labels = ['Здоровые', 'Больные']\n",
    "\n",
    "# Создаем барплот\n",
    "plt.figure(figsize=(8, 6))\n",
    "plt.bar(labels, counts, color=['green', 'red'])\n",
    "plt.xlabel('Статус пациентов')\n",
    "plt.ylabel('Количество')\n",
    "plt.title('Пропорция здоровых и больных пациентов')\n",
    "\n",
    "# Отображаем график\n",
    "plt.show()"
   ]
  }
 ],
 "metadata": {
  "kernelspec": {
   "display_name": "WORK",
   "language": "python",
   "name": "python3"
  },
  "language_info": {
   "codemirror_mode": {
    "name": "ipython",
    "version": 3
   },
   "file_extension": ".py",
   "mimetype": "text/x-python",
   "name": "python",
   "nbconvert_exporter": "python",
   "pygments_lexer": "ipython3",
   "version": "3.8.16"
  }
 },
 "nbformat": 4,
 "nbformat_minor": 2
}
